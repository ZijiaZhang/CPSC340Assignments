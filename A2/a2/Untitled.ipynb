{
 "cells": [
  {
   "cell_type": "code",
   "execution_count": 6,
   "metadata": {},
   "outputs": [
    {
     "name": "stdout",
     "output_type": "stream",
     "text": [
      "Training error with depth-1 accuracy-based decision tree: 0.25\n",
      "Training error with depth-2 accuracy-based decision tree: 0.17\n",
      "Training error with depth-3 accuracy-based decision tree: 0.13\n",
      "Training error with depth-4 accuracy-based decision tree: 0.11\n",
      "Training error with depth-5 accuracy-based decision tree: 0.11\n",
      "Training error with depth-6 accuracy-based decision tree: 0.11\n",
      "Training error with depth-7 accuracy-based decision tree: 0.11\n",
      "Training error with depth-8 accuracy-based decision tree: 0.11\n",
      "Training error with depth-9 accuracy-based decision tree: 0.11\n",
      "Training error with depth-10 accuracy-based decision tree: 0.11\n",
      "Training error with depth-11 accuracy-based decision tree: 0.11\n",
      "Training error with depth-12 accuracy-based decision tree: 0.11\n",
      "Training error with depth-13 accuracy-based decision tree: 0.11\n",
      "Training error with depth-14 accuracy-based decision tree: 0.11\n",
      "Training error with depth-15 accuracy-based decision tree: 0.11\n",
      "Training error with depth-16 accuracy-based decision tree: 0.11\n",
      "Training error with depth-17 accuracy-based decision tree: 0.11\n",
      "Training error with depth-18 accuracy-based decision tree: 0.11\n",
      "Training error with depth-19 accuracy-based decision tree: 0.11\n",
      "Training error with depth-20 accuracy-based decision tree: 0.11\n",
      "Training error with depth-21 accuracy-based decision tree: 0.11\n",
      "Training error with depth-22 accuracy-based decision tree: 0.11\n",
      "Training error with depth-23 accuracy-based decision tree: 0.11\n",
      "Training error with depth-24 accuracy-based decision tree: 0.11\n",
      "Training error with depth-25 accuracy-based decision tree: 0.11\n",
      "Training error with depth-26 accuracy-based decision tree: 0.11\n",
      "Training error with depth-27 accuracy-based decision tree: 0.11\n",
      "Training error with depth-28 accuracy-based decision tree: 0.11\n",
      "Training error with depth-29 accuracy-based decision tree: 0.11\n",
      "Training error with depth-30 accuracy-based decision tree: 0.11\n",
      "Training error with depth-31 accuracy-based decision tree: 0.11\n",
      "Training error with depth-32 accuracy-based decision tree: 0.11\n",
      "Training error with depth-33 accuracy-based decision tree: 0.11\n",
      "Training error with depth-34 accuracy-based decision tree: 0.11\n",
      "Training error with depth-35 accuracy-based decision tree: 0.11\n",
      "Training error with depth-36 accuracy-based decision tree: 0.11\n",
      "Training error with depth-37 accuracy-based decision tree: 0.11\n",
      "Training error with depth-38 accuracy-based decision tree: 0.11\n",
      "Training error with depth-39 accuracy-based decision tree: 0.11\n",
      "Training error with depth-40 accuracy-based decision tree: 0.11\n",
      "Training error with depth-41 accuracy-based decision tree: 0.11\n",
      "Training error with depth-42 accuracy-based decision tree: 0.11\n",
      "Training error with depth-43 accuracy-based decision tree: 0.11\n",
      "Training error with depth-44 accuracy-based decision tree: 0.11\n",
      "Training error with depth-45 accuracy-based decision tree: 0.11\n",
      "Training error with depth-46 accuracy-based decision tree: 0.11\n",
      "Training error with depth-47 accuracy-based decision tree: 0.11\n",
      "Training error with depth-48 accuracy-based decision tree: 0.11\n",
      "Training error with depth-49 accuracy-based decision tree: 0.11\n",
      "Training error with depth-50 accuracy-based decision tree: 0.11\n",
      "Training error with depth-51 accuracy-based decision tree: 0.11\n",
      "Training error with depth-52 accuracy-based decision tree: 0.11\n",
      "Training error with depth-53 accuracy-based decision tree: 0.11\n",
      "Training error with depth-54 accuracy-based decision tree: 0.11\n",
      "Training error with depth-55 accuracy-based decision tree: 0.11\n",
      "Training error with depth-56 accuracy-based decision tree: 0.11\n",
      "Training error with depth-57 accuracy-based decision tree: 0.11\n",
      "Training error with depth-58 accuracy-based decision tree: 0.11\n",
      "Training error with depth-59 accuracy-based decision tree: 0.11\n",
      "Training error with depth-60 accuracy-based decision tree: 0.11\n",
      "Training error with depth-61 accuracy-based decision tree: 0.11\n",
      "Training error with depth-62 accuracy-based decision tree: 0.11\n",
      "Training error with depth-63 accuracy-based decision tree: 0.11\n",
      "Training error with depth-64 accuracy-based decision tree: 0.11\n",
      "Training error with depth-65 accuracy-based decision tree: 0.11\n",
      "Training error with depth-66 accuracy-based decision tree: 0.11\n",
      "Training error with depth-67 accuracy-based decision tree: 0.11\n",
      "Training error with depth-68 accuracy-based decision tree: 0.11\n",
      "Training error with depth-69 accuracy-based decision tree: 0.11\n",
      "Training error with depth-70 accuracy-based decision tree: 0.11\n",
      "Training error with depth-71 accuracy-based decision tree: 0.11\n",
      "Training error with depth-72 accuracy-based decision tree: 0.11\n",
      "Training error with depth-73 accuracy-based decision tree: 0.11\n",
      "Training error with depth-74 accuracy-based decision tree: 0.11\n",
      "Training error with depth-75 accuracy-based decision tree: 0.11\n",
      "Training error with depth-76 accuracy-based decision tree: 0.11\n",
      "Training error with depth-77 accuracy-based decision tree: 0.11\n",
      "Training error with depth-78 accuracy-based decision tree: 0.11\n",
      "Training error with depth-79 accuracy-based decision tree: 0.11\n",
      "Training error with depth-80 accuracy-based decision tree: 0.11\n",
      "Training error with depth-81 accuracy-based decision tree: 0.11\n",
      "Training error with depth-82 accuracy-based decision tree: 0.11\n",
      "Training error with depth-83 accuracy-based decision tree: 0.11\n",
      "Training error with depth-84 accuracy-based decision tree: 0.11\n",
      "Training error with depth-85 accuracy-based decision tree: 0.11\n",
      "Training error with depth-86 accuracy-based decision tree: 0.11\n",
      "Training error with depth-87 accuracy-based decision tree: 0.11\n",
      "Training error with depth-88 accuracy-based decision tree: 0.11\n",
      "Training error with depth-89 accuracy-based decision tree: 0.11\n",
      "Training error with depth-90 accuracy-based decision tree: 0.11\n",
      "Training error with depth-91 accuracy-based decision tree: 0.11\n",
      "Training error with depth-92 accuracy-based decision tree: 0.11\n",
      "Training error with depth-93 accuracy-based decision tree: 0.11\n",
      "Training error with depth-94 accuracy-based decision tree: 0.11\n",
      "Training error with depth-95 accuracy-based decision tree: 0.11\n",
      "Training error with depth-96 accuracy-based decision tree: 0.11\n",
      "Training error with depth-97 accuracy-based decision tree: 0.11\n",
      "Training error with depth-98 accuracy-based decision tree: 0.11\n",
      "Training error with depth-99 accuracy-based decision tree: 0.11\n",
      "Training error with depth-100 accuracy-based decision tree: 0.11\n",
      "Now let's try infogain instead of accuracy...\n",
      "Training error with depth-1 infogain-based decision tree: 0.33\n",
      "Training error with depth-2 infogain-based decision tree: 0.24\n",
      "Training error with depth-3 infogain-based decision tree: 0.15\n",
      "Training error with depth-4 infogain-based decision tree: 0.13\n",
      "Training error with depth-5 infogain-based decision tree: 0.08\n",
      "Training error with depth-6 infogain-based decision tree: 0.05\n",
      "Training error with depth-7 infogain-based decision tree: 0.02\n",
      "Training error with depth-8 infogain-based decision tree: 0.01\n",
      "Training error with depth-9 infogain-based decision tree: 0.00\n",
      "Training error with depth-10 infogain-based decision tree: 0.00\n",
      "Training error with depth-11 infogain-based decision tree: 0.00\n",
      "Training error with depth-12 infogain-based decision tree: 0.00\n",
      "Training error with depth-13 infogain-based decision tree: 0.00\n",
      "Training error with depth-14 infogain-based decision tree: 0.00\n",
      "Training error with depth-15 infogain-based decision tree: 0.00\n",
      "Training error with depth-16 infogain-based decision tree: 0.00\n",
      "Training error with depth-17 infogain-based decision tree: 0.00\n",
      "Training error with depth-18 infogain-based decision tree: 0.00\n",
      "Training error with depth-19 infogain-based decision tree: 0.00\n",
      "Training error with depth-20 infogain-based decision tree: 0.00\n",
      "Training error with depth-21 infogain-based decision tree: 0.00\n",
      "Training error with depth-22 infogain-based decision tree: 0.00\n",
      "Training error with depth-23 infogain-based decision tree: 0.00\n",
      "Training error with depth-24 infogain-based decision tree: 0.00\n",
      "Training error with depth-25 infogain-based decision tree: 0.00\n",
      "Training error with depth-26 infogain-based decision tree: 0.00\n",
      "Training error with depth-27 infogain-based decision tree: 0.00\n",
      "Training error with depth-28 infogain-based decision tree: 0.00\n",
      "Training error with depth-29 infogain-based decision tree: 0.00\n",
      "Training error with depth-30 infogain-based decision tree: 0.00\n",
      "Training error with depth-31 infogain-based decision tree: 0.00\n",
      "Training error with depth-32 infogain-based decision tree: 0.00\n",
      "Training error with depth-33 infogain-based decision tree: 0.00\n",
      "Training error with depth-34 infogain-based decision tree: 0.00\n",
      "Training error with depth-35 infogain-based decision tree: 0.00\n",
      "Training error with depth-36 infogain-based decision tree: 0.00\n",
      "Training error with depth-37 infogain-based decision tree: 0.00\n",
      "Training error with depth-38 infogain-based decision tree: 0.00\n",
      "Training error with depth-39 infogain-based decision tree: 0.00\n",
      "Training error with depth-40 infogain-based decision tree: 0.00\n",
      "Training error with depth-41 infogain-based decision tree: 0.00\n",
      "Training error with depth-42 infogain-based decision tree: 0.00\n",
      "Training error with depth-43 infogain-based decision tree: 0.00\n",
      "Training error with depth-44 infogain-based decision tree: 0.00\n",
      "Training error with depth-45 infogain-based decision tree: 0.00\n",
      "Training error with depth-46 infogain-based decision tree: 0.00\n",
      "Training error with depth-47 infogain-based decision tree: 0.00\n",
      "Training error with depth-48 infogain-based decision tree: 0.00\n",
      "Training error with depth-49 infogain-based decision tree: 0.00\n",
      "Training error with depth-50 infogain-based decision tree: 0.00\n",
      "Training error with depth-51 infogain-based decision tree: 0.00\n",
      "Training error with depth-52 infogain-based decision tree: 0.00\n",
      "Training error with depth-53 infogain-based decision tree: 0.00\n",
      "Training error with depth-54 infogain-based decision tree: 0.00\n",
      "Training error with depth-55 infogain-based decision tree: 0.00\n",
      "Training error with depth-56 infogain-based decision tree: 0.00\n",
      "Training error with depth-57 infogain-based decision tree: 0.00\n",
      "Training error with depth-58 infogain-based decision tree: 0.00\n",
      "Training error with depth-59 infogain-based decision tree: 0.00\n",
      "Training error with depth-60 infogain-based decision tree: 0.00\n",
      "Training error with depth-61 infogain-based decision tree: 0.00\n",
      "Training error with depth-62 infogain-based decision tree: 0.00\n",
      "Training error with depth-63 infogain-based decision tree: 0.00\n",
      "Training error with depth-64 infogain-based decision tree: 0.00\n",
      "Training error with depth-65 infogain-based decision tree: 0.00\n",
      "Training error with depth-66 infogain-based decision tree: 0.00\n",
      "Training error with depth-67 infogain-based decision tree: 0.00\n",
      "Training error with depth-68 infogain-based decision tree: 0.00\n",
      "Training error with depth-69 infogain-based decision tree: 0.00\n",
      "Training error with depth-70 infogain-based decision tree: 0.00\n",
      "Training error with depth-71 infogain-based decision tree: 0.00\n",
      "Training error with depth-72 infogain-based decision tree: 0.00\n",
      "Training error with depth-73 infogain-based decision tree: 0.00\n",
      "Training error with depth-74 infogain-based decision tree: 0.00\n",
      "Training error with depth-75 infogain-based decision tree: 0.00\n",
      "Training error with depth-76 infogain-based decision tree: 0.00\n",
      "Training error with depth-77 infogain-based decision tree: 0.00\n",
      "Training error with depth-78 infogain-based decision tree: 0.00\n",
      "Training error with depth-79 infogain-based decision tree: 0.00\n",
      "Training error with depth-80 infogain-based decision tree: 0.00\n",
      "Training error with depth-81 infogain-based decision tree: 0.00\n",
      "Training error with depth-82 infogain-based decision tree: 0.00\n",
      "Training error with depth-83 infogain-based decision tree: 0.00\n",
      "Training error with depth-84 infogain-based decision tree: 0.00\n",
      "Training error with depth-85 infogain-based decision tree: 0.00\n",
      "Training error with depth-86 infogain-based decision tree: 0.00\n",
      "Training error with depth-87 infogain-based decision tree: 0.00\n",
      "Training error with depth-88 infogain-based decision tree: 0.00\n",
      "Training error with depth-89 infogain-based decision tree: 0.00\n",
      "Training error with depth-90 infogain-based decision tree: 0.00\n",
      "Training error with depth-91 infogain-based decision tree: 0.00\n",
      "Training error with depth-92 infogain-based decision tree: 0.00\n",
      "Training error with depth-93 infogain-based decision tree: 0.00\n",
      "Training error with depth-94 infogain-based decision tree: 0.00\n",
      "Training error with depth-95 infogain-based decision tree: 0.00\n",
      "Training error with depth-96 infogain-based decision tree: 0.00\n",
      "Training error with depth-97 infogain-based decision tree: 0.00\n",
      "Training error with depth-98 infogain-based decision tree: 0.00\n",
      "Training error with depth-99 infogain-based decision tree: 0.00\n",
      "Training error with depth-100 infogain-based decision tree: 0.00\n"
     ]
    }
   ],
   "source": [
    "include(\"example_train.jl\")"
   ]
  },
  {
   "cell_type": "code",
   "execution_count": 13,
   "metadata": {},
   "outputs": [
    {
     "name": "stdout",
     "output_type": "stream",
     "text": [
      "\u001b[32m\u001b[1m Resolving\u001b[22m\u001b[39m package versions...\n",
      "\u001b[32m\u001b[1m Installed\u001b[22m\u001b[39m LaTeXStrings ────── v1.0.3\n",
      "\u001b[32m\u001b[1m Installed\u001b[22m\u001b[39m FixedPointNumbers ─ v0.6.1\n",
      "\u001b[32m\u001b[1m Installed\u001b[22m\u001b[39m Tokenize ────────── v0.5.6\n",
      "\u001b[32m\u001b[1m Installed\u001b[22m\u001b[39m MacroTools ──────── v0.5.1\n",
      "\u001b[32m\u001b[1m Installed\u001b[22m\u001b[39m CSTParser ───────── v0.6.2\n",
      "\u001b[32m\u001b[1m Installed\u001b[22m\u001b[39m PyCall ──────────── v1.91.2\n",
      "\u001b[32m\u001b[1m Installed\u001b[22m\u001b[39m Reexport ────────── v0.2.0\n",
      "\u001b[32m\u001b[1m Installed\u001b[22m\u001b[39m DataStructures ──── v0.17.0\n",
      "\u001b[32m\u001b[1m Installed\u001b[22m\u001b[39m PyPlot ──────────── v2.8.2\n",
      "\u001b[32m\u001b[1m Installed\u001b[22m\u001b[39m ColorTypes ──────── v0.8.0\n",
      "\u001b[32m\u001b[1m Installed\u001b[22m\u001b[39m Colors ──────────── v0.9.6\n",
      "\u001b[32m\u001b[1m  Updating\u001b[22m\u001b[39m `~/.julia/environments/v1.2/Project.toml`\n",
      " \u001b[90m [d330b81b]\u001b[39m\u001b[92m + PyPlot v2.8.2\u001b[39m\n",
      "\u001b[32m\u001b[1m  Updating\u001b[22m\u001b[39m `~/.julia/environments/v1.2/Manifest.toml`\n",
      " \u001b[90m [00ebfdb7]\u001b[39m\u001b[92m + CSTParser v0.6.2\u001b[39m\n",
      " \u001b[90m [3da002f7]\u001b[39m\u001b[92m + ColorTypes v0.8.0\u001b[39m\n",
      " \u001b[90m [5ae59095]\u001b[39m\u001b[92m + Colors v0.9.6\u001b[39m\n",
      " \u001b[90m [864edb3b]\u001b[39m\u001b[92m + DataStructures v0.17.0\u001b[39m\n",
      " \u001b[90m [53c48c17]\u001b[39m\u001b[92m + FixedPointNumbers v0.6.1\u001b[39m\n",
      " \u001b[90m [b964fa9f]\u001b[39m\u001b[92m + LaTeXStrings v1.0.3\u001b[39m\n",
      " \u001b[90m [1914dd2f]\u001b[39m\u001b[92m + MacroTools v0.5.1\u001b[39m\n",
      " \u001b[90m [438e738f]\u001b[39m\u001b[92m + PyCall v1.91.2\u001b[39m\n",
      " \u001b[90m [d330b81b]\u001b[39m\u001b[92m + PyPlot v2.8.2\u001b[39m\n",
      " \u001b[90m [189a3867]\u001b[39m\u001b[92m + Reexport v0.2.0\u001b[39m\n",
      " \u001b[90m [0796e94c]\u001b[39m\u001b[92m + Tokenize v0.5.6\u001b[39m\n",
      "\u001b[32m\u001b[1m  Building\u001b[22m\u001b[39m PyCall → `~/.julia/packages/PyCall/ttONZ/deps/build.log`\n"
     ]
    }
   ],
   "source": [
    "import Pkg; Pkg.add(\"PyPlot\")"
   ]
  },
  {
   "cell_type": "code",
   "execution_count": 58,
   "metadata": {},
   "outputs": [
    {
     "name": "stdout",
     "output_type": "stream",
     "text": [
      "Train error with depth-1 decision tree: 0.290\n",
      "Validation error with depth-1 decision tree: 0.290\n",
      "Test error with depth-1 decision tree: 0.334\n",
      "Train error with depth-2 decision tree: 0.250\n",
      "Validation error with depth-2 decision tree: 0.250\n",
      "Test error with depth-2 decision tree: 0.286\n",
      "Train error with depth-3 decision tree: 0.145\n",
      "Validation error with depth-3 decision tree: 0.145\n",
      "Test error with depth-3 decision tree: 0.176\n",
      "Train error with depth-4 decision tree: 0.100\n",
      "Validation error with depth-4 decision tree: 0.100\n",
      "Test error with depth-4 decision tree: 0.155\n",
      "Train error with depth-5 decision tree: 0.055\n",
      "Validation error with depth-5 decision tree: 0.055\n",
      "Test error with depth-5 decision tree: 0.130\n",
      "Train error with depth-6 decision tree: 0.025\n",
      "Validation error with depth-6 decision tree: 0.025\n",
      "Test error with depth-6 decision tree: 0.118\n",
      "Train error with depth-7 decision tree: 0.010\n",
      "Validation error with depth-7 decision tree: 0.010\n",
      "Test error with depth-7 decision tree: 0.124\n",
      "Train error with depth-8 decision tree: 0.000\n",
      "Validation error with depth-8 decision tree: 0.000\n",
      "Test error with depth-8 decision tree: 0.117\n",
      "Train error with depth-9 decision tree: 0.000\n",
      "Validation error with depth-9 decision tree: 0.000\n",
      "Test error with depth-9 decision tree: 0.117\n",
      "Train error with depth-10 decision tree: 0.000\n",
      "Validation error with depth-10 decision tree: 0.000\n",
      "Test error with depth-10 decision tree: 0.117\n",
      "Train error with depth-11 decision tree: 0.000\n",
      "Validation error with depth-11 decision tree: 0.000\n",
      "Test error with depth-11 decision tree: 0.117\n",
      "Train error with depth-12 decision tree: 0.000\n",
      "Validation error with depth-12 decision tree: 0.000\n",
      "Test error with depth-12 decision tree: 0.117\n",
      "Train error with depth-13 decision tree: 0.000\n",
      "Validation error with depth-13 decision tree: 0.000\n",
      "Test error with depth-13 decision tree: 0.117\n",
      "Train error with depth-14 decision tree: 0.000\n",
      "Validation error with depth-14 decision tree: 0.000\n",
      "Test error with depth-14 decision tree: 0.117\n",
      "Train error with depth-"
     ]
    },
    {
     "data": {
      "image/png": "[encoded data removed]",
      "text/plain": [
       "Figure(PyObject <Figure size 640x480 with 1 Axes>)"
      ]
     },
     "metadata": {},
     "output_type": "display_data"
    },
    {
     "name": "stdout",
     "output_type": "stream",
     "text": [
      "15 decision tree: 0.000\n",
      "Validation error with depth-15 decision tree: 0.000\n",
      "Test error with depth-15 decision tree: 0.117\n"
     ]
    },
    {
     "data": {
      "text/plain": [
       "PyObject <matplotlib.legend.Legend object at 0x14acbeb70>"
      ]
     },
     "execution_count": 58,
     "metadata": {},
     "output_type": "execute_result"
    }
   ],
   "source": [
    "include(\"example_trainTest.jl\")"
   ]
  },
  {
   "cell_type": "code",
   "execution_count": 28,
   "metadata": {},
   "outputs": [
    {
     "data": {
      "text/plain": [
       "200.0"
      ]
     },
     "execution_count": 28,
     "metadata": {},
     "output_type": "execute_result"
    }
   ],
   "source": [
    "floor(n/2)"
   ]
  },
  {
   "cell_type": "code",
   "execution_count": 43,
   "metadata": {},
   "outputs": [
    {
     "data": {
      "text/plain": [
       "1-element Array{Float64,1}:\n",
       " 3.0"
      ]
     },
     "execution_count": 43,
     "metadata": {},
     "output_type": "execute_result"
    }
   ],
   "source": [
    "minVal = minimum(resultVal)\n",
    "minA = depthArray[findall(x->x==minVal,resultVal)]"
   ]
  },
  {
   "cell_type": "code",
   "execution_count": 51,
   "metadata": {},
   "outputs": [
    {
     "data": {
      "text/plain": [
       "1-element Array{Float64,1}:\n",
       " 3.0"
      ]
     },
     "execution_count": 51,
     "metadata": {},
     "output_type": "execute_result"
    }
   ],
   "source": [
    "DesiredDepth"
   ]
  },
  {
   "cell_type": "code",
   "execution_count": null,
   "metadata": {},
   "outputs": [],
   "source": []
  }
 ],
 "metadata": {
  "kernelspec": {
   "display_name": "Julia 1.2.0",
   "language": "julia",
   "name": "julia-1.2"
  },
  "language_info": {
   "file_extension": ".jl",
   "mimetype": "application/julia",
   "name": "julia",
   "version": "1.2.0"
  }
 },
 "nbformat": 4,
 "nbformat_minor": 4
}
