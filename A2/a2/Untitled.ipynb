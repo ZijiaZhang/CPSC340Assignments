{
 "cells": [
  {
   "cell_type": "code",
   "execution_count": 6,
   "metadata": {},
   "outputs": [
    {
     "name": "stdout",
     "output_type": "stream",
     "text": [
      "Training error with depth-1 accuracy-based decision tree: 0.25\n",
      "Training error with depth-2 accuracy-based decision tree: 0.17\n",
      "Training error with depth-3 accuracy-based decision tree: 0.13\n",
      "Training error with depth-4 accuracy-based decision tree: 0.11\n",
      "Training error with depth-5 accuracy-based decision tree: 0.11\n",
      "Training error with depth-6 accuracy-based decision tree: 0.11\n",
      "Training error with depth-7 accuracy-based decision tree: 0.11\n",
      "Training error with depth-8 accuracy-based decision tree: 0.11\n",
      "Training error with depth-9 accuracy-based decision tree: 0.11\n",
      "Training error with depth-10 accuracy-based decision tree: 0.11\n",
      "Training error with depth-11 accuracy-based decision tree: 0.11\n",
      "Training error with depth-12 accuracy-based decision tree: 0.11\n",
      "Training error with depth-13 accuracy-based decision tree: 0.11\n",
      "Training error with depth-14 accuracy-based decision tree: 0.11\n",
      "Training error with depth-15 accuracy-based decision tree: 0.11\n",
      "Training error with depth-16 accuracy-based decision tree: 0.11\n",
      "Training error with depth-17 accuracy-based decision tree: 0.11\n",
      "Training error with depth-18 accuracy-based decision tree: 0.11\n",
      "Training error with depth-19 accuracy-based decision tree: 0.11\n",
      "Training error with depth-20 accuracy-based decision tree: 0.11\n",
      "Training error with depth-21 accuracy-based decision tree: 0.11\n",
      "Training error with depth-22 accuracy-based decision tree: 0.11\n",
      "Training error with depth-23 accuracy-based decision tree: 0.11\n",
      "Training error with depth-24 accuracy-based decision tree: 0.11\n",
      "Training error with depth-25 accuracy-based decision tree: 0.11\n",
      "Training error with depth-26 accuracy-based decision tree: 0.11\n",
      "Training error with depth-27 accuracy-based decision tree: 0.11\n",
      "Training error with depth-28 accuracy-based decision tree: 0.11\n",
      "Training error with depth-29 accuracy-based decision tree: 0.11\n",
      "Training error with depth-30 accuracy-based decision tree: 0.11\n",
      "Training error with depth-31 accuracy-based decision tree: 0.11\n",
      "Training error with depth-32 accuracy-based decision tree: 0.11\n",
      "Training error with depth-33 accuracy-based decision tree: 0.11\n",
      "Training error with depth-34 accuracy-based decision tree: 0.11\n",
      "Training error with depth-35 accuracy-based decision tree: 0.11\n",
      "Training error with depth-36 accuracy-based decision tree: 0.11\n",
      "Training error with depth-37 accuracy-based decision tree: 0.11\n",
      "Training error with depth-38 accuracy-based decision tree: 0.11\n",
      "Training error with depth-39 accuracy-based decision tree: 0.11\n",
      "Training error with depth-40 accuracy-based decision tree: 0.11\n",
      "Training error with depth-41 accuracy-based decision tree: 0.11\n",
      "Training error with depth-42 accuracy-based decision tree: 0.11\n",
      "Training error with depth-43 accuracy-based decision tree: 0.11\n",
      "Training error with depth-44 accuracy-based decision tree: 0.11\n",
      "Training error with depth-45 accuracy-based decision tree: 0.11\n",
      "Training error with depth-46 accuracy-based decision tree: 0.11\n",
      "Training error with depth-47 accuracy-based decision tree: 0.11\n",
      "Training error with depth-48 accuracy-based decision tree: 0.11\n",
      "Training error with depth-49 accuracy-based decision tree: 0.11\n",
      "Training error with depth-50 accuracy-based decision tree: 0.11\n",
      "Training error with depth-51 accuracy-based decision tree: 0.11\n",
      "Training error with depth-52 accuracy-based decision tree: 0.11\n",
      "Training error with depth-53 accuracy-based decision tree: 0.11\n",
      "Training error with depth-54 accuracy-based decision tree: 0.11\n",
      "Training error with depth-55 accuracy-based decision tree: 0.11\n",
      "Training error with depth-56 accuracy-based decision tree: 0.11\n",
      "Training error with depth-57 accuracy-based decision tree: 0.11\n",
      "Training error with depth-58 accuracy-based decision tree: 0.11\n",
      "Training error with depth-59 accuracy-based decision tree: 0.11\n",
      "Training error with depth-60 accuracy-based decision tree: 0.11\n",
      "Training error with depth-61 accuracy-based decision tree: 0.11\n",
      "Training error with depth-62 accuracy-based decision tree: 0.11\n",
      "Training error with depth-63 accuracy-based decision tree: 0.11\n",
      "Training error with depth-64 accuracy-based decision tree: 0.11\n",
      "Training error with depth-65 accuracy-based decision tree: 0.11\n",
      "Training error with depth-66 accuracy-based decision tree: 0.11\n",
      "Training error with depth-67 accuracy-based decision tree: 0.11\n",
      "Training error with depth-68 accuracy-based decision tree: 0.11\n",
      "Training error with depth-69 accuracy-based decision tree: 0.11\n",
      "Training error with depth-70 accuracy-based decision tree: 0.11\n",
      "Training error with depth-71 accuracy-based decision tree: 0.11\n",
      "Training error with depth-72 accuracy-based decision tree: 0.11\n",
      "Training error with depth-73 accuracy-based decision tree: 0.11\n",
      "Training error with depth-74 accuracy-based decision tree: 0.11\n",
      "Training error with depth-75 accuracy-based decision tree: 0.11\n",
      "Training error with depth-76 accuracy-based decision tree: 0.11\n",
      "Training error with depth-77 accuracy-based decision tree: 0.11\n",
      "Training error with depth-78 accuracy-based decision tree: 0.11\n",
      "Training error with depth-79 accuracy-based decision tree: 0.11\n",
      "Training error with depth-80 accuracy-based decision tree: 0.11\n",
      "Training error with depth-81 accuracy-based decision tree: 0.11\n",
      "Training error with depth-82 accuracy-based decision tree: 0.11\n",
      "Training error with depth-83 accuracy-based decision tree: 0.11\n",
      "Training error with depth-84 accuracy-based decision tree: 0.11\n",
      "Training error with depth-85 accuracy-based decision tree: 0.11\n",
      "Training error with depth-86 accuracy-based decision tree: 0.11\n",
      "Training error with depth-87 accuracy-based decision tree: 0.11\n",
      "Training error with depth-88 accuracy-based decision tree: 0.11\n",
      "Training error with depth-89 accuracy-based decision tree: 0.11\n",
      "Training error with depth-90 accuracy-based decision tree: 0.11\n",
      "Training error with depth-91 accuracy-based decision tree: 0.11\n",
      "Training error with depth-92 accuracy-based decision tree: 0.11\n",
      "Training error with depth-93 accuracy-based decision tree: 0.11\n",
      "Training error with depth-94 accuracy-based decision tree: 0.11\n",
      "Training error with depth-95 accuracy-based decision tree: 0.11\n",
      "Training error with depth-96 accuracy-based decision tree: 0.11\n",
      "Training error with depth-97 accuracy-based decision tree: 0.11\n",
      "Training error with depth-98 accuracy-based decision tree: 0.11\n",
      "Training error with depth-99 accuracy-based decision tree: 0.11\n",
      "Training error with depth-100 accuracy-based decision tree: 0.11\n",
      "Now let's try infogain instead of accuracy...\n",
      "Training error with depth-1 infogain-based decision tree: 0.33\n",
      "Training error with depth-2 infogain-based decision tree: 0.24\n",
      "Training error with depth-3 infogain-based decision tree: 0.15\n",
      "Training error with depth-4 infogain-based decision tree: 0.13\n",
      "Training error with depth-5 infogain-based decision tree: 0.08\n",
      "Training error with depth-6 infogain-based decision tree: 0.05\n",
      "Training error with depth-7 infogain-based decision tree: 0.02\n",
      "Training error with depth-8 infogain-based decision tree: 0.01\n",
      "Training error with depth-9 infogain-based decision tree: 0.00\n",
      "Training error with depth-10 infogain-based decision tree: 0.00\n",
      "Training error with depth-11 infogain-based decision tree: 0.00\n",
      "Training error with depth-12 infogain-based decision tree: 0.00\n",
      "Training error with depth-13 infogain-based decision tree: 0.00\n",
      "Training error with depth-14 infogain-based decision tree: 0.00\n",
      "Training error with depth-15 infogain-based decision tree: 0.00\n",
      "Training error with depth-16 infogain-based decision tree: 0.00\n",
      "Training error with depth-17 infogain-based decision tree: 0.00\n",
      "Training error with depth-18 infogain-based decision tree: 0.00\n",
      "Training error with depth-19 infogain-based decision tree: 0.00\n",
      "Training error with depth-20 infogain-based decision tree: 0.00\n",
      "Training error with depth-21 infogain-based decision tree: 0.00\n",
      "Training error with depth-22 infogain-based decision tree: 0.00\n",
      "Training error with depth-23 infogain-based decision tree: 0.00\n",
      "Training error with depth-24 infogain-based decision tree: 0.00\n",
      "Training error with depth-25 infogain-based decision tree: 0.00\n",
      "Training error with depth-26 infogain-based decision tree: 0.00\n",
      "Training error with depth-27 infogain-based decision tree: 0.00\n",
      "Training error with depth-28 infogain-based decision tree: 0.00\n",
      "Training error with depth-29 infogain-based decision tree: 0.00\n",
      "Training error with depth-30 infogain-based decision tree: 0.00\n",
      "Training error with depth-31 infogain-based decision tree: 0.00\n",
      "Training error with depth-32 infogain-based decision tree: 0.00\n",
      "Training error with depth-33 infogain-based decision tree: 0.00\n",
      "Training error with depth-34 infogain-based decision tree: 0.00\n",
      "Training error with depth-35 infogain-based decision tree: 0.00\n",
      "Training error with depth-36 infogain-based decision tree: 0.00\n",
      "Training error with depth-37 infogain-based decision tree: 0.00\n",
      "Training error with depth-38 infogain-based decision tree: 0.00\n",
      "Training error with depth-39 infogain-based decision tree: 0.00\n",
      "Training error with depth-40 infogain-based decision tree: 0.00\n",
      "Training error with depth-41 infogain-based decision tree: 0.00\n",
      "Training error with depth-42 infogain-based decision tree: 0.00\n",
      "Training error with depth-43 infogain-based decision tree: 0.00\n",
      "Training error with depth-44 infogain-based decision tree: 0.00\n",
      "Training error with depth-45 infogain-based decision tree: 0.00\n",
      "Training error with depth-46 infogain-based decision tree: 0.00\n",
      "Training error with depth-47 infogain-based decision tree: 0.00\n",
      "Training error with depth-48 infogain-based decision tree: 0.00\n",
      "Training error with depth-49 infogain-based decision tree: 0.00\n",
      "Training error with depth-50 infogain-based decision tree: 0.00\n",
      "Training error with depth-51 infogain-based decision tree: 0.00\n",
      "Training error with depth-52 infogain-based decision tree: 0.00\n",
      "Training error with depth-53 infogain-based decision tree: 0.00\n",
      "Training error with depth-54 infogain-based decision tree: 0.00\n",
      "Training error with depth-55 infogain-based decision tree: 0.00\n",
      "Training error with depth-56 infogain-based decision tree: 0.00\n",
      "Training error with depth-57 infogain-based decision tree: 0.00\n",
      "Training error with depth-58 infogain-based decision tree: 0.00\n",
      "Training error with depth-59 infogain-based decision tree: 0.00\n",
      "Training error with depth-60 infogain-based decision tree: 0.00\n",
      "Training error with depth-61 infogain-based decision tree: 0.00\n",
      "Training error with depth-62 infogain-based decision tree: 0.00\n",
      "Training error with depth-63 infogain-based decision tree: 0.00\n",
      "Training error with depth-64 infogain-based decision tree: 0.00\n",
      "Training error with depth-65 infogain-based decision tree: 0.00\n",
      "Training error with depth-66 infogain-based decision tree: 0.00\n",
      "Training error with depth-67 infogain-based decision tree: 0.00\n",
      "Training error with depth-68 infogain-based decision tree: 0.00\n",
      "Training error with depth-69 infogain-based decision tree: 0.00\n",
      "Training error with depth-70 infogain-based decision tree: 0.00\n",
      "Training error with depth-71 infogain-based decision tree: 0.00\n",
      "Training error with depth-72 infogain-based decision tree: 0.00\n",
      "Training error with depth-73 infogain-based decision tree: 0.00\n",
      "Training error with depth-74 infogain-based decision tree: 0.00\n",
      "Training error with depth-75 infogain-based decision tree: 0.00\n",
      "Training error with depth-76 infogain-based decision tree: 0.00\n",
      "Training error with depth-77 infogain-based decision tree: 0.00\n",
      "Training error with depth-78 infogain-based decision tree: 0.00\n",
      "Training error with depth-79 infogain-based decision tree: 0.00\n",
      "Training error with depth-80 infogain-based decision tree: 0.00\n",
      "Training error with depth-81 infogain-based decision tree: 0.00\n",
      "Training error with depth-82 infogain-based decision tree: 0.00\n",
      "Training error with depth-83 infogain-based decision tree: 0.00\n",
      "Training error with depth-84 infogain-based decision tree: 0.00\n",
      "Training error with depth-85 infogain-based decision tree: 0.00\n",
      "Training error with depth-86 infogain-based decision tree: 0.00\n",
      "Training error with depth-87 infogain-based decision tree: 0.00\n",
      "Training error with depth-88 infogain-based decision tree: 0.00\n",
      "Training error with depth-89 infogain-based decision tree: 0.00\n",
      "Training error with depth-90 infogain-based decision tree: 0.00\n",
      "Training error with depth-91 infogain-based decision tree: 0.00\n",
      "Training error with depth-92 infogain-based decision tree: 0.00\n",
      "Training error with depth-93 infogain-based decision tree: 0.00\n",
      "Training error with depth-94 infogain-based decision tree: 0.00\n",
      "Training error with depth-95 infogain-based decision tree: 0.00\n",
      "Training error with depth-96 infogain-based decision tree: 0.00\n",
      "Training error with depth-97 infogain-based decision tree: 0.00\n",
      "Training error with depth-98 infogain-based decision tree: 0.00\n",
      "Training error with depth-99 infogain-based decision tree: 0.00\n",
      "Training error with depth-100 infogain-based decision tree: 0.00\n"
     ]
    }
   ],
   "source": [
    "include(\"example_train.jl\")"
   ]
  },
  {
   "cell_type": "code",
   "execution_count": 13,
   "metadata": {},
   "outputs": [
    {
     "name": "stdout",
     "output_type": "stream",
     "text": [
      "\u001b[32m\u001b[1m Resolving\u001b[22m\u001b[39m package versions...\n",
      "\u001b[32m\u001b[1m Installed\u001b[22m\u001b[39m LaTeXStrings ────── v1.0.3\n",
      "\u001b[32m\u001b[1m Installed\u001b[22m\u001b[39m FixedPointNumbers ─ v0.6.1\n",
      "\u001b[32m\u001b[1m Installed\u001b[22m\u001b[39m Tokenize ────────── v0.5.6\n",
      "\u001b[32m\u001b[1m Installed\u001b[22m\u001b[39m MacroTools ──────── v0.5.1\n",
      "\u001b[32m\u001b[1m Installed\u001b[22m\u001b[39m CSTParser ───────── v0.6.2\n",
      "\u001b[32m\u001b[1m Installed\u001b[22m\u001b[39m PyCall ──────────── v1.91.2\n",
      "\u001b[32m\u001b[1m Installed\u001b[22m\u001b[39m Reexport ────────── v0.2.0\n",
      "\u001b[32m\u001b[1m Installed\u001b[22m\u001b[39m DataStructures ──── v0.17.0\n",
      "\u001b[32m\u001b[1m Installed\u001b[22m\u001b[39m PyPlot ──────────── v2.8.2\n",
      "\u001b[32m\u001b[1m Installed\u001b[22m\u001b[39m ColorTypes ──────── v0.8.0\n",
      "\u001b[32m\u001b[1m Installed\u001b[22m\u001b[39m Colors ──────────── v0.9.6\n",
      "\u001b[32m\u001b[1m  Updating\u001b[22m\u001b[39m `~/.julia/environments/v1.2/Project.toml`\n",
      " \u001b[90m [d330b81b]\u001b[39m\u001b[92m + PyPlot v2.8.2\u001b[39m\n",
      "\u001b[32m\u001b[1m  Updating\u001b[22m\u001b[39m `~/.julia/environments/v1.2/Manifest.toml`\n",
      " \u001b[90m [00ebfdb7]\u001b[39m\u001b[92m + CSTParser v0.6.2\u001b[39m\n",
      " \u001b[90m [3da002f7]\u001b[39m\u001b[92m + ColorTypes v0.8.0\u001b[39m\n",
      " \u001b[90m [5ae59095]\u001b[39m\u001b[92m + Colors v0.9.6\u001b[39m\n",
      " \u001b[90m [864edb3b]\u001b[39m\u001b[92m + DataStructures v0.17.0\u001b[39m\n",
      " \u001b[90m [53c48c17]\u001b[39m\u001b[92m + FixedPointNumbers v0.6.1\u001b[39m\n",
      " \u001b[90m [b964fa9f]\u001b[39m\u001b[92m + LaTeXStrings v1.0.3\u001b[39m\n",
      " \u001b[90m [1914dd2f]\u001b[39m\u001b[92m + MacroTools v0.5.1\u001b[39m\n",
      " \u001b[90m [438e738f]\u001b[39m\u001b[92m + PyCall v1.91.2\u001b[39m\n",
      " \u001b[90m [d330b81b]\u001b[39m\u001b[92m + PyPlot v2.8.2\u001b[39m\n",
      " \u001b[90m [189a3867]\u001b[39m\u001b[92m + Reexport v0.2.0\u001b[39m\n",
      " \u001b[90m [0796e94c]\u001b[39m\u001b[92m + Tokenize v0.5.6\u001b[39m\n",
      "\u001b[32m\u001b[1m  Building\u001b[22m\u001b[39m PyCall → `~/.julia/packages/PyCall/ttONZ/deps/build.log`\n"
     ]
    }
   ],
   "source": [
    "import Pkg; Pkg.add(\"PyPlot\")"
   ]
  },
  {
   "cell_type": "code",
   "execution_count": 4,
   "metadata": {},
   "outputs": [
    {
     "name": "stdout",
     "output_type": "stream",
     "text": [
      "Train error with depth-1 decision tree: 0.325\n",
      "Validation error with depth-1 decision tree: 0.325\n",
      "Test error with depth-1 decision tree: 0.333\n",
      "Train error with depth-2 decision tree: 0.242\n",
      "Validation error with depth-2 decision tree: 0.242\n",
      "Test error with depth-2 decision tree: 0.286\n",
      "Train error with depth-3 decision tree: 0.150\n",
      "Validation error with depth-3 decision tree: 0.150\n",
      "Test error with depth-3 decision tree: 0.177\n",
      "Train error with depth-4 decision tree: 0.125\n",
      "Validation error with depth-4 decision tree: 0.125\n",
      "Test error with depth-4 decision tree: 0.183\n",
      "Train error with depth-5 decision tree: 0.080\n",
      "Validation error with depth-5 decision tree: 0.080\n",
      "Test error with depth-5 decision tree: 0.127\n",
      "Train error with depth-6 decision tree: 0.050\n",
      "Validation error with depth-6 decision tree: 0.050\n",
      "Test error with depth-6 decision tree: 0.119\n",
      "Train error with depth-7 decision tree: 0.020\n",
      "Validation error with depth-7 decision tree: 0.020\n",
      "Test error with depth-7 decision tree: 0.103\n",
      "Train error with depth-8 decision tree: 0.005\n",
      "Validation error with depth-8 decision tree: 0.005\n",
      "Test error with depth-8 decision tree: 0.089\n",
      "Train error with depth-9 decision tree: 0.000\n",
      "Validation error with depth-9 decision tree: 0.000\n",
      "Test error with depth-9 decision tree: 0.095\n",
      "Train error with depth-10 decision tree: 0.000\n",
      "Validation error with depth-10 decision tree: 0.000\n",
      "Test error with depth-10 decision tree: 0.095\n",
      "Train error with depth-11 decision tree: 0.000\n",
      "Validation error with depth-11 decision tree: 0.000\n",
      "Test error with depth-11 decision tree: 0.095\n",
      "Train error with depth-12 decision tree: 0.000\n",
      "Validation error with depth-12 decision tree: 0.000\n",
      "Test error with depth-12 decision tree: 0.095\n",
      "Train error with depth-13 decision tree: 0.000\n",
      "Validation error with depth-13 decision tree: 0.000\n",
      "Test error with depth-13 decision tree: 0.095\n",
      "Train error with depth-14 decision tree: 0.000\n",
      "Validation error with depth-14 decision tree: 0.000\n",
      "Test error with depth-14 decision tree: 0.095\n",
      "Train error with depth-"
     ]
    },
    {
     "data": {
      "image/png": "[encoded data removed]",
      "text/plain": [
       "Figure(PyObject <Figure size 640x480 with 1 Axes>)"
      ]
     },
     "metadata": {},
     "output_type": "display_data"
    },
    {
     "name": "stdout",
     "output_type": "stream",
     "text": [
      "15 decision tree: 0.000\n",
      "Validation error with depth-15 decision tree: 0.000\n",
      "Test error with depth-15 decision tree: 0.095\n"
     ]
    },
    {
     "data": {
      "text/plain": [
       "PyObject <matplotlib.legend.Legend object at 0x13526e7b8>"
      ]
     },
     "execution_count": 4,
     "metadata": {},
     "output_type": "execute_result"
    }
   ],
   "source": [
    "include(\"example_trainTest.jl\")"
   ]
  },
  {
   "cell_type": "code",
   "execution_count": 28,
   "metadata": {},
   "outputs": [
    {
     "data": {
      "text/plain": [
       "200.0"
      ]
     },
     "execution_count": 28,
     "metadata": {},
     "output_type": "execute_result"
    }
   ],
   "source": [
    "floor(n/2)"
   ]
  },
  {
   "cell_type": "code",
   "execution_count": 43,
   "metadata": {},
   "outputs": [
    {
     "data": {
      "text/plain": [
       "1-element Array{Float64,1}:\n",
       " 3.0"
      ]
     },
     "execution_count": 43,
     "metadata": {},
     "output_type": "execute_result"
    }
   ],
   "source": [
    "minVal = minimum(resultVal)\n",
    "minA = depthArray[findall(x->x==minVal,resultVal)]"
   ]
  },
  {
   "cell_type": "code",
   "execution_count": 51,
   "metadata": {},
   "outputs": [
    {
     "data": {
      "text/plain": [
       "1-element Array{Float64,1}:\n",
       " 3.0"
      ]
     },
     "execution_count": 51,
     "metadata": {},
     "output_type": "execute_result"
    }
   ],
   "source": [
    "DesiredDepth"
   ]
  },
  {
   "cell_type": "code",
   "execution_count": 59,
   "metadata": {},
   "outputs": [
    {
     "data": {
      "text/plain": [
       "4-element Array{String,1}:\n",
       " \"comp.*\"\n",
       " \"rec.*\" \n",
       " \"sci.*\" \n",
       " \"talk.*\""
      ]
     },
     "execution_count": 59,
     "metadata": {},
     "output_type": "execute_result"
    }
   ],
   "source": [
    "include(\"example_BagOfWords.jl\")"
   ]
  },
  {
   "cell_type": "code",
   "execution_count": 60,
   "metadata": {},
   "outputs": [
    {
     "data": {
      "text/plain": [
       "\"format\""
      ]
     },
     "execution_count": 60,
     "metadata": {},
     "output_type": "execute_result"
    }
   ],
   "source": [
    "wordlist[30]"
   ]
  },
  {
   "cell_type": "code",
   "execution_count": 63,
   "metadata": {},
   "outputs": [
    {
     "data": {
      "text/plain": [
       "2-element Array{String,1}:\n",
       " \"food\" \n",
       " \"world\""
      ]
     },
     "execution_count": 63,
     "metadata": {},
     "output_type": "execute_result"
    }
   ],
   "source": [
    "wordlist[findall(x->x==1, X[200,:])]"
   ]
  },
  {
   "cell_type": "code",
   "execution_count": 65,
   "metadata": {},
   "outputs": [
    {
     "data": {
      "text/plain": [
       "100-element SparseVector{Float64,Int64} with 2 stored entries:\n",
       "  [29 ]  =  1.0\n",
       "  [100]  =  1.0"
      ]
     },
     "execution_count": 65,
     "metadata": {},
     "output_type": "execute_result"
    }
   ],
   "source": [
    "X[200,:]"
   ]
  },
  {
   "cell_type": "code",
   "execution_count": 70,
   "metadata": {},
   "outputs": [
    {
     "data": {
      "text/plain": [
       "\"talk.*\""
      ]
     },
     "execution_count": 70,
     "metadata": {},
     "output_type": "execute_result"
    }
   ],
   "source": [
    "groupnames[y[200]]"
   ]
  },
  {
   "cell_type": "code",
   "execution_count": 58,
   "metadata": {},
   "outputs": [
    {
     "name": "stdout",
     "output_type": "stream",
     "text": [
      "Test error with naive Bayes: 0.188\n"
     ]
    }
   ],
   "source": [
    "include(\"example_naiveBayes.jl\")"
   ]
  },
  {
   "cell_type": "code",
   "execution_count": 86,
   "metadata": {},
   "outputs": [
    {
     "name": "stdout",
     "output_type": "stream",
     "text": [
      "Test error with depth-1 decision tree: 0.595\n",
      "Test error with depth-2 decision tree: 0.595\n",
      "Test error with depth-3 decision tree: 0.599\n",
      "Test error with depth-4 decision tree: 0.549\n",
      "Test error with depth-5 decision tree: 0.515\n",
      "Test error with depth-6 decision tree: 0.480\n",
      "Test error with depth-7 decision tree: 0.460\n",
      "Test error with depth-8 decision tree: 0.439\n",
      "Test error with depth-9 decision tree: 0.440\n",
      "Test error with depth-10 decision tree: 0.421\n",
      "Test error with depth-11 decision tree: 0.421\n",
      "Test error with depth-12 decision tree: 0.408\n",
      "Test error with depth-13 decision tree: 0.396\n",
      "Test error with depth-14 decision tree: 0.387\n",
      "Test error with depth-15 decision tree: 0.388\n",
      "Test error with depth-16 decision tree: 0.375\n",
      "Test error with depth-17 decision tree: 0.368\n",
      "Test error with depth-18 decision tree: 0.359\n",
      "Test error with depth-19 decision tree: 0.360\n",
      "Test error with depth-20 decision tree: 0.355\n"
     ]
    }
   ],
   "source": [
    "include(\"example_decisionTree_newsgroups.jl\")"
   ]
  },
  {
   "cell_type": "code",
   "execution_count": 49,
   "metadata": {},
   "outputs": [
    {
     "name": "stdout",
     "output_type": "stream",
     "text": [
      "Train Error with 1-nearest neighbours: 0.000\n",
      "Test Error with 1-nearest neighbours: 0.065\n",
      "Train Error with 2-nearest neighbours: 0.035\n",
      "Test Error with 2-nearest neighbours: 0.092\n",
      "Train Error with 3-nearest neighbours: 0.028\n",
      "Test Error with 3-nearest neighbours: 0.066\n",
      "Train Error with 4-nearest neighbours: 0.048\n",
      "Test Error with 4-nearest neighbours: 0.083\n",
      "Train Error with 5-nearest neighbours: 0.043\n",
      "Test Error with 5-nearest neighbours: 0.069\n",
      "Train Error with 6-nearest neighbours: 0.060\n",
      "Test Error with 6-nearest neighbours: 0.092\n",
      "Train Error with 7-nearest neighbours: 0.055\n",
      "Test Error with 7-nearest neighbours: 0.087\n",
      "Train Error with 8-nearest neighbours: 0.077\n",
      "Test Error with 8-nearest neighbours: 0.101\n",
      "Train Error with 9-nearest neighbours: 0.068\n",
      "Test Error with 9-nearest neighbours: 0.086\n",
      "Train Error with 10-nearest neighbours: 0.072\n",
      "Test Error with 10-nearest neighbours: 0.097\n"
     ]
    }
   ],
   "source": [
    "include(\"example_knn.jl\")"
   ]
  },
  {
   "cell_type": "code",
   "execution_count": 52,
   "metadata": {},
   "outputs": [
    {
     "name": "stdout",
     "output_type": "stream",
     "text": [
      "\u001b[32m\u001b[1m  Updating\u001b[22m\u001b[39m registry at `~/.julia/registries/General`\n",
      "\u001b[32m\u001b[1m  Updating\u001b[22m\u001b[39m git-repo `https://github.com/JuliaRegistries/General.git`\n",
      "\u001b[2K\u001b[?25h[1mFetching:\u001b[22m\u001b[39m [========================================>]  100.0 %.0 %37.6 %===============================>         ]  75.5 %\u001b[32m\u001b[1m Resolving\u001b[22m\u001b[39m package versions...\n",
      "\u001b[32m\u001b[1m  Updating\u001b[22m\u001b[39m `~/.julia/environments/v1.2/Project.toml`\n",
      " \u001b[90m [438e738f]\u001b[39m\u001b[92m + PyCall v1.91.2\u001b[39m\n",
      "\u001b[32m\u001b[1m  Updating\u001b[22m\u001b[39m `~/.julia/environments/v1.2/Manifest.toml`\n",
      "\u001b[90m [no changes]\u001b[39m\n"
     ]
    }
   ],
   "source": [
    "import Pkg; Pkg.add(\"PyCall\")"
   ]
  },
  {
   "cell_type": "code",
   "execution_count": 53,
   "metadata": {},
   "outputs": [
    {
     "data": {
      "text/plain": [
       "plot2Dclassifier (generic function with 1 method)"
      ]
     },
     "execution_count": 53,
     "metadata": {},
     "output_type": "execute_result"
    }
   ],
   "source": [
    "include(\"plot2Dclassifier.jl\")"
   ]
  },
  {
   "cell_type": "code",
   "execution_count": 54,
   "metadata": {},
   "outputs": [
    {
     "data": {
      "text/plain": [
       "2000-element Array{Int64,1}:\n",
       " 2\n",
       " 2\n",
       " 1\n",
       " 1\n",
       " 1\n",
       " 2\n",
       " 1\n",
       " 1\n",
       " 2\n",
       " 1\n",
       " 2\n",
       " 1\n",
       " 1\n",
       " ⋮\n",
       " 1\n",
       " 1\n",
       " 1\n",
       " 1\n",
       " 2\n",
       " 2\n",
       " 2\n",
       " 2\n",
       " 1\n",
       " 1\n",
       " 1\n",
       " 2"
      ]
     },
     "execution_count": 54,
     "metadata": {},
     "output_type": "execute_result"
    }
   ],
   "source": [
    "using JLD\n",
    "dataName = \"citiesSmall.jld\"\n",
    "X = load(dataName,\"X\")\n",
    "y = load(dataName,\"y\")\n",
    "Xtest = load(dataName,\"Xtest\")\n",
    "ytest = load(dataName,\"ytest\")"
   ]
  },
  {
   "cell_type": "code",
   "execution_count": 55,
   "metadata": {},
   "outputs": [
    {
     "data": {
      "text/plain": [
       "GenericModel(getfield(Main, Symbol(\"#predict#333\")){Array{Float64,2},Array{Int64,1},Int64}([-85.379384 34.933512; -109.863111 32.372977; … ; -99.772337 29.658295; -89.377884 39.661223], [2, 2, 2, 2, 2, 2, 2, 1, 2, 2  …  2, 2, 1, 2, 2, 2, 2, 2, 2, 1], 1))"
      ]
     },
     "execution_count": 55,
     "metadata": {},
     "output_type": "execute_result"
    }
   ],
   "source": [
    "model = knn(X,y,1)"
   ]
  },
  {
   "cell_type": "code",
   "execution_count": 57,
   "metadata": {},
   "outputs": [
    {
     "data": {
      "image/png": "[encoded data removed]",
      "text/plain": [
       "Figure(PyObject <Figure size 640x480 with 1 Axes>)"
      ]
     },
     "metadata": {},
     "output_type": "display_data"
    },
    {
     "data": {
      "text/plain": [
       "PyObject <matplotlib.contour.QuadContourSet object at 0x1353a2668>"
      ]
     },
     "execution_count": 57,
     "metadata": {},
     "output_type": "execute_result"
    }
   ],
   "source": [
    "plot2Dclassifier(X,y,model)"
   ]
  },
  {
   "cell_type": "code",
   "execution_count": 72,
   "metadata": {},
   "outputs": [
    {
     "name": "stdout",
     "output_type": "stream",
     "text": [
      "Train Error with depth-7 decision tree: 0.076\n",
      "Test Error with depth-7 decision tree: 0.409\n",
      "Train Error with depth-5 random tree: 0.356\n",
      "Test Error with depth-5 random tree: 0.545\n",
      "Train Error with depth-7 random forest: 0.000\n",
      "Test Error with depth-7 random forest: 0.201\n"
     ]
    }
   ],
   "source": [
    "include(\"example_randomTree.jl\")"
   ]
  },
  {
   "cell_type": "code",
   "execution_count": 89,
   "metadata": {},
   "outputs": [
    {
     "name": "stdout",
     "output_type": "stream",
     "text": [
      "i = 1\n",
      "Running k-means, changes = 9559.377013\n",
      "Running k-means, changes = 9398.398861\n",
      "Running k-means, changes = 9379.366803\n",
      "Running k-means, changes = 9372.416275\n",
      "Running k-means, changes = 9370.846874\n",
      "Running k-means, changes = 9370.487700\n",
      "Running k-means, changes = 9370.487700\n"
     ]
    },
    {
     "ename": "LoadError",
     "evalue": "UndefVarError: goodErrors not defined",
     "output_type": "error",
     "traceback": [
      "UndefVarError: goodErrors not defined",
      "",
      "Stacktrace:",
      " [1] top-level scope at /Users/zijiazhang/repos/CPSC340Assignments/A2/a2/example_kmeans.jl:17",
      " [2] include at ./boot.jl:328 [inlined]",
      " [3] include_relative(::Module, ::String) at ./loading.jl:1094",
      " [4] include(::Module, ::String) at ./Base.jl:31",
      " [5] include(::String) at ./client.jl:431",
      " [6] top-level scope at In[89]:1"
     ]
    }
   ],
   "source": [
    "include(\"example_kmeans.jl\")"
   ]
  },
  {
   "cell_type": "code",
   "execution_count": 90,
   "metadata": {},
   "outputs": [
    {
     "name": "stdout",
     "output_type": "stream",
     "text": [
      "i = 1\n",
      "Running k-means, changes = 36741.218529\n",
      "Running k-means, changes = 13324.825351\n",
      "Running k-means, changes = 3197.955795\n",
      "Running k-means, changes = 3071.468053\n",
      "Running k-means, changes = 3071.468053\n",
      "i = 2\n",
      "Running k-means, changes = 3119.713482\n",
      "Running k-means, changes = 3071.468053\n",
      "Running k-means, changes = 3071.468053\n",
      "i = 3\n",
      "Running k-means, changes = 31883.575929\n",
      "Running k-means, changes = 9562.353280\n",
      "Running k-means, changes = 9452.258306\n",
      "Running k-means, changes = 9402.384244\n",
      "Running k-means, changes = 9384.986326\n",
      "Running k-means, changes = 9376.066372\n",
      "Running k-means, changes = 9371.944601\n",
      "Running k-means, changes = 9370.487700\n",
      "Running k-means, changes = 9370.487700\n",
      "i = 4\n",
      "Running k-means, changes = 33552.743169\n",
      "Running k-means, changes = 9909.520544\n",
      "Running k-means, changes = 9909.520544\n",
      "i = 5\n",
      "Running k-means, changes = 3198.673438\n",
      "Running k-means, changes = 3075.138065\n",
      "Running k-means, changes = 3071.468053\n",
      "Running k-means, changes = 3071.468053\n",
      "i = 6\n",
      "Running k-means, changes = 9430.517124\n",
      "Running k-means, changes = 9378.704738\n",
      "Running k-means, changes = 9371.744268\n",
      "Running k-means, changes = 9370.487700\n",
      "Running k-means, changes = 9370.487700\n",
      "i = 7\n",
      "Running k-means, changes = 41109.452684\n",
      "Running k-means, changes = 8522.751083\n",
      "Running k-means, changes = 3075.138065\n",
      "Running k-means, changes = 3071.468053\n",
      "Running k-means, changes = 3071.468053\n",
      "i = 8\n",
      "Running k-means, changes = 39315.408498\n",
      "Running k-means, changes = 5364.233132\n",
      "Running k-means, changes = 3155.987447\n",
      "Running k-means, changes = 3075.138065\n",
      "Running k-means, changes = 3071.468053\n",
      "Running k-means, changes = 3071.468053\n",
      "i = 9\n",
      "Running k-means, changes = 32254.604049\n",
      "Running k-means, changes = 3383.611562\n",
      "Running k-means, changes = 3083.422585\n",
      "Running k-means, changes = 3071.468053\n",
      "Running k-means, changes = 3071.468053\n",
      "i = 10\n",
      "Running k-means, changes = 62793.029235\n",
      "Running k-means, changes = 47165.096910\n",
      "Running k-means, changes = 46748.991363\n",
      "Running k-means, changes = 46553.656422\n",
      "Running k-means, changes = 46530.112474\n",
      "Running k-means, changes = 46503.141024\n",
      "Running k-means, changes = 46386.243576\n",
      "Running k-means, changes = 45834.003083\n",
      "Running k-means, changes = 29349.382666\n",
      "Running k-means, changes = 9402.161755\n",
      "Running k-means, changes = 9384.986326\n",
      "Running k-means, changes = 9376.066372\n",
      "Running k-means, changes = 9371.944601\n",
      "Running k-means, changes = 9370.487700\n",
      "Running k-means, changes = 9370.487700\n",
      "i = 11\n",
      "Running k-means, changes = 28426.168823\n",
      "Running k-means, changes = 10089.023710\n",
      "Running k-means, changes = 9796.967985\n",
      "Running k-means, changes = 9605.630686\n",
      "Running k-means, changes = 9473.753125\n",
      "Running k-means, changes = 9415.882866\n",
      "Running k-means, changes = 9379.831201\n",
      "Running k-means, changes = 9371.256908\n",
      "Running k-means, changes = 9370.516947\n",
      "Running k-means, changes = 9370.516947\n",
      "i = 12\n",
      "Running k-means, changes = 9527.799996\n",
      "Running k-means, changes = 9526.705010\n",
      "Running k-means, changes = 9526.302504\n",
      "Running k-means, changes = 9526.302504\n",
      "i = 13\n",
      "Running k-means, changes = 33514.994477\n",
      "Running k-means, changes = 19976.916401\n",
      "Running k-means, changes = 6833.086295\n",
      "Running k-means, changes = 3300.573071\n",
      "Running k-means, changes = 3071.468053\n",
      "Running k-means, changes = 3071.468053\n",
      "i = 14\n",
      "Running k-means, changes = 31931.807956\n",
      "Running k-means, changes = 3927.041340\n",
      "Running k-means, changes = 3071.468053\n",
      "Running k-means, changes = 3071.468053\n",
      "i = 15\n",
      "Running k-means, changes = 7996.567737\n",
      "Running k-means, changes = 3124.599512\n",
      "Running k-means, changes = 3075.138065\n",
      "Running k-means, changes = 3071.468053\n",
      "Running k-means, changes = 3071.468053\n",
      "i = 16\n",
      "Running k-means, changes = 11440.032890\n",
      "Running k-means, changes = 9442.195256\n",
      "Running k-means, changes = 9385.891896\n",
      "Running k-means, changes = 9372.848862\n",
      "Running k-means, changes = 9370.745045\n",
      "Running k-means, changes = 9370.516947\n",
      "Running k-means, changes = 9370.516947\n",
      "i = 17\n",
      "Running k-means, changes = 31597.194263\n",
      "Running k-means, changes = 9569.975374\n",
      "Running k-means, changes = 9438.648170\n",
      "Running k-means, changes = 9390.677490\n",
      "Running k-means, changes = 9377.265530\n",
      "Running k-means, changes = 9372.416275\n",
      "Running k-means, changes = 9370.846874\n",
      "Running k-means, changes = 9370.487700\n",
      "Running k-means, changes = 9370.487700\n",
      "i = 18\n",
      "Running k-means, changes = 38220.974821\n",
      "Running k-means, changes = 9637.210948\n",
      "Running k-means, changes = 3071.468053\n",
      "Running k-means, changes = 3071.468053\n",
      "i = 19\n",
      "Running k-means, changes = 9421.028703\n",
      "Running k-means, changes = 9389.024854\n",
      "Running k-means, changes = 9376.066372\n",
      "Running k-means, changes = 9371.944601\n",
      "Running k-means, changes = 9370.487700\n",
      "Running k-means, changes = 9370.487700\n",
      "i = 20\n",
      "Running k-means, changes = 32361.037518\n",
      "Running k-means, changes = 3367.461166\n",
      "Running k-means, changes = 3071.468053\n",
      "Running k-means, changes = 3071.468053\n",
      "i = 21\n",
      "Running k-means, changes = 23838.198140\n",
      "Running k-means, changes = 9372.537785\n",
      "Running k-means, changes = 9370.846874\n",
      "Running k-means, changes = 9370.487700\n",
      "Running k-means, changes = 9370.487700\n",
      "i = 22\n",
      "Running k-means, changes = 65192.931416\n",
      "Running k-means, changes = 38232.471948\n",
      "Running k-means, changes = 38141.834537\n",
      "Running k-means, changes = 38131.422159\n",
      "Running k-means, changes = 38126.967196\n",
      "Running k-means, changes = 38126.528989\n",
      "Running k-means, changes = 38126.270662\n",
      "Running k-means, changes = 38126.270662\n",
      "i = 23\n",
      "Running k-means, changes = 9378.426193\n",
      "Running k-means, changes = 9371.256908\n",
      "Running k-means, changes = 9370.516947\n",
      "Running k-means, changes = 9370.516947\n",
      "i = 24\n",
      "Running k-means, changes = 9532.945316\n",
      "Running k-means, changes = 9527.527094\n",
      "Running k-means, changes = 9526.611137\n",
      "Running k-means, changes = 9526.611137\n",
      "i = 25\n",
      "Running k-means, changes = 5978.473432\n",
      "Running k-means, changes = 3450.089631\n",
      "Running k-means, changes = 3083.422585\n",
      "Running k-means, changes = 3071.468053\n",
      "Running k-means, changes = 3071.468053\n",
      "i = 26\n",
      "Running k-means, changes = 34877.176624\n",
      "Running k-means, changes = 25369.316951\n",
      "Running k-means, changes = 16081.058044\n",
      "Running k-means, changes = 9894.345850\n",
      "Running k-means, changes = 9807.497596\n",
      "Running k-means, changes = 9713.038721\n",
      "Running k-means, changes = 9645.547677\n",
      "Running k-means, changes = 9610.913709\n",
      "Running k-means, changes = 9586.158972\n",
      "Running k-means, changes = 9558.982850\n",
      "Running k-means, changes = 9537.228904\n",
      "Running k-means, changes = 9529.474837\n",
      "Running k-means, changes = 9527.527094\n",
      "Running k-means, changes = 9526.611137\n",
      "Running k-means, changes = 9526.611137\n",
      "i = 27\n",
      "Running k-means, changes = 9497.262593\n",
      "Running k-means, changes = 9415.258815\n",
      "Running k-means, changes = 9378.159108\n",
      "Running k-means, changes = 9371.256908\n",
      "Running k-means, changes = 9370.516947\n",
      "Running k-means, changes = 9370.516947\n",
      "i = 28\n",
      "Running k-means, changes = 36809.486292\n",
      "Running k-means, changes = 14549.056569\n",
      "Running k-means, changes = 9419.688041\n",
      "Running k-means, changes = 9374.431883\n",
      "Running k-means, changes = 9370.487700\n",
      "Running k-means, changes = 9370.487700\n",
      "i = 29\n",
      "Running k-means, changes = 56848.032071\n",
      "Running k-means, changes = 46576.535243\n",
      "Running k-means, changes = 46292.721707\n",
      "Running k-means, changes = 43816.538251\n",
      "Running k-means, changes = 12449.348296\n",
      "Running k-means, changes = 9407.694079\n",
      "Running k-means, changes = 9386.083252\n",
      "Running k-means, changes = 9376.066372\n",
      "Running k-means, changes = 9371.944601\n",
      "Running k-means, changes = 9370.487700\n",
      "Running k-means, changes = 9370.487700\n",
      "i = 30\n",
      "Running k-means, changes = 17726.849246\n",
      "Running k-means, changes = 9451.675303\n",
      "Running k-means, changes = 9405.894526\n",
      "Running k-means, changes = 9386.083252\n",
      "Running k-means, changes = 9376.066372\n",
      "Running k-means, changes = 9371.944601\n",
      "Running k-means, changes = 9370.487700\n",
      "Running k-means, changes = 9370.487700\n",
      "i = 31\n",
      "Running k-means, changes = 54316.845775\n",
      "Running k-means, changes = 9877.904150\n",
      "Running k-means, changes = 9759.016384\n",
      "Running k-means, changes = 9539.737555\n",
      "Running k-means, changes = 9423.153601\n",
      "Running k-means, changes = 9387.562254\n",
      "Running k-means, changes = 9376.066372\n",
      "Running k-means, changes = 9371.944601\n",
      "Running k-means, changes = 9370.487700\n",
      "Running k-means, changes = 9370.487700\n",
      "i = 32\n",
      "Running k-means, changes = 27915.656643\n",
      "Running k-means, changes = 9802.146710\n",
      "Running k-means, changes = 8430.687075\n",
      "Running k-means, changes = 3124.599512\n",
      "Running k-means, changes = 3075.138065\n",
      "Running k-means, changes = 3071.468053\n",
      "Running k-means, changes = 3071.468053\n",
      "i = 33\n",
      "Running k-means, changes = 36766.890931\n",
      "Running k-means, changes = 13685.207934\n",
      "Running k-means, changes = 3071.468053\n",
      "Running k-means, changes = 3071.468053\n",
      "i = 34\n",
      "Running k-means, changes = 32492.534623\n",
      "Running k-means, changes = 10651.426260\n",
      "Running k-means, changes = 3197.955795\n",
      "Running k-means, changes = 3071.468053\n",
      "Running k-means, changes = 3071.468053\n",
      "i = 35\n",
      "Running k-means, changes = 36123.544603\n",
      "Running k-means, changes = 20129.918555\n",
      "Running k-means, changes = 3252.707982\n",
      "Running k-means, changes = 3071.468053\n",
      "Running k-means, changes = 3071.468053\n",
      "i = 36\n",
      "Running k-means, changes = 33595.288855\n",
      "Running k-means, changes = 9675.309871\n",
      "Running k-means, changes = 9460.515469\n",
      "Running k-means, changes = 9390.412581\n",
      "Running k-means, changes = 9374.205197\n",
      "Running k-means, changes = 9371.216996\n",
      "Running k-means, changes = 9370.487700\n",
      "Running k-means, changes = 9370.487700\n",
      "i = 37\n",
      "Running k-means, changes = 9660.643438\n",
      "Running k-means, changes = 9557.992427\n",
      "Running k-means, changes = 9526.705010\n",
      "Running k-means, changes = 9526.302504\n",
      "Running k-means, changes = 9526.302504\n",
      "i = 38\n",
      "Running k-means, changes = 64931.668891\n",
      "Running k-means, changes = 44450.554906\n",
      "Running k-means, changes = 26632.152391\n",
      "Running k-means, changes = 19327.767581\n",
      "Running k-means, changes = 9591.911092\n",
      "Running k-means, changes = 9548.363096\n",
      "Running k-means, changes = 9535.725385\n",
      "Running k-means, changes = 9529.474837\n",
      "Running k-means, changes = 9527.527094\n",
      "Running k-means, changes = 9526.611137\n",
      "Running k-means, changes = 9526.611137\n",
      "i = 39\n",
      "Running k-means, changes = 38860.346153\n",
      "Running k-means, changes = 35650.770321\n",
      "Running k-means, changes = 10811.253713\n",
      "Running k-means, changes = 3075.138065\n",
      "Running k-means, changes = 3071.468053\n",
      "Running k-means, changes = 3071.468053\n",
      "i = 40\n",
      "Running k-means, changes = 33508.170383\n",
      "Running k-means, changes = 4891.806216\n",
      "Running k-means, changes = 3075.138065"
     ]
    },
    {
     "data": {
      "image/png": "[encoded data removed]",
      "text/plain": [
       "Figure(PyObject <Figure size 640x480 with 1 Axes>)"
      ]
     },
     "metadata": {},
     "output_type": "display_data"
    },
    {
     "name": "stdout",
     "output_type": "stream",
     "text": [
      "\n",
      "Running k-means, changes = 3071.468053\n",
      "Running k-means, changes = 3071.468053\n",
      "i = 41\n",
      "Running k-means, changes = 7640.033345\n",
      "Running k-means, changes = 4001.381333\n",
      "Running k-means, changes = 3135.615661\n",
      "Running k-means, changes = 3075.138065\n",
      "Running k-means, changes = 3071.468053\n",
      "Running k-means, changes = 3071.468053\n",
      "i = 42\n",
      "Running k-means, changes = 37562.518403\n",
      "Running k-means, changes = 10687.453419\n",
      "Running k-means, changes = 3145.461735\n",
      "Running k-means, changes = 3071.468053\n",
      "Running k-means, changes = 3071.468053\n",
      "i = 43\n",
      "Running k-means, changes = 31219.971016\n",
      "Running k-means, changes = 4131.435237\n",
      "Running k-means, changes = 3071.468053\n",
      "Running k-means, changes = 3071.468053\n",
      "i = 44\n",
      "Running k-means, changes = 26844.085870\n",
      "Running k-means, changes = 3071.468053\n",
      "Running k-means, changes = 3071.468053\n",
      "i = 45\n",
      "Running k-means, changes = 42766.180520\n",
      "Running k-means, changes = 38475.205378\n",
      "Running k-means, changes = 38213.248068\n",
      "Running k-means, changes = 38138.216934\n",
      "Running k-means, changes = 38121.347274\n",
      "Running k-means, changes = 38120.192589\n",
      "Running k-means, changes = 38120.192589\n",
      "i = 46\n",
      "Running k-means, changes = 27277.515032\n",
      "Running k-means, changes = 3117.129811\n",
      "Running k-means, changes = 3075.138065\n",
      "Running k-means, changes = 3071.468053\n",
      "Running k-means, changes = 3071.468053\n",
      "i = 47\n",
      "Running k-means, changes = 62307.421132\n",
      "Running k-means, changes = 21551.767623\n",
      "Running k-means, changes = 10170.462995\n",
      "Running k-means, changes = 7242.194113\n",
      "Running k-means, changes = 3300.573071\n",
      "Running k-means, changes = 3071.468053\n",
      "Running k-means, changes = 3071.468053\n",
      "i = 48\n",
      "Running k-means, changes = 37427.367512\n",
      "Running k-means, changes = 27455.967710\n",
      "Running k-means, changes = 3124.599512\n",
      "Running k-means, changes = 3075.138065\n",
      "Running k-means, changes = 3071.468053\n",
      "Running k-means, changes = 3071.468053\n",
      "i = 49\n",
      "Running k-means, changes = 20192.215115\n",
      "Running k-means, changes = 3071.468053\n",
      "Running k-means, changes = 3071.468053\n",
      "i = 50\n",
      "Running k-means, changes = 9599.072082\n",
      "Running k-means, changes = 9577.190318\n",
      "Running k-means, changes = 9542.814582\n",
      "Running k-means, changes = 9532.647934\n",
      "Running k-means, changes = 9527.527094\n",
      "Running k-means, changes = 9526.611137\n",
      "Running k-means, changes = 9526.611137\n"
     ]
    }
   ],
   "source": [
    "using JLD\n",
    "X = load(\"clusterData.jld\",\"X\")\n",
    "\n",
    "# K-means clustering\n",
    "k = 4\n",
    "include(\"kMeans.jl\")\n",
    "goodmodel = 0\n",
    "goodErrors = Inf\n",
    "\n",
    "\n",
    "for i in 1:50\n",
    "    @show i\n",
    "    model = kMeans(X,k,doPlot=false);\n",
    "    y = model.predict(X);\n",
    "    thisError = kMeansError(X,y,model.W);\n",
    "    if (goodErrors - thisError > 0)\n",
    "        goodErrors = thisError\n",
    "        goodmodel = model\n",
    "    end\n",
    "end\n",
    "\n",
    "y = goodmodel.predict(X) \n",
    "include(\"clustering2Dplot.jl\")\n",
    "clustering2Dplot(X,y,goodmodel.W)"
   ]
  },
  {
   "cell_type": "code",
   "execution_count": 70,
   "metadata": {},
   "outputs": [
    {
     "data": {
      "image/png": "[encoded data removed]",
      "text/plain": [
       "Figure(PyObject <Figure size 640x480 with 1 Axes>)"
      ]
     },
     "metadata": {},
     "output_type": "display_data"
    },
    {
     "data": {
      "text/plain": [
       "PyObject Text(24.0, 0.5, 'Error value')"
      ]
     },
     "execution_count": 70,
     "metadata": {},
     "output_type": "execute_result"
    }
   ],
   "source": [
    "using JLD\n",
    "X = load(\"clusterData.jld\",\"X\")\n",
    "\n",
    "# K-means clustering\n",
    "include(\"kMeans.jl\")\n",
    "goodErrors = zeros(10,1);\n",
    "XValue = zeros(10,1);\n",
    "for k in 1:10\n",
    "    goodErrors[k] = Inf\n",
    "    for i in 1:50\n",
    "        model = kMeans(X,k,doPlot=false);\n",
    "        y = model.predict(X);\n",
    "        thisError = kMeansError(X,y,model.W);\n",
    "        if (goodErrors[k] - thisError > 0)\n",
    "            goodErrors[k] = thisError\n",
    "            XValue[k] = k\n",
    "        end\n",
    "    end\n",
    "end\n",
    "\n",
    "using PyPlot\n",
    "plot(XValue,goodErrors)\n",
    "xlabel(\"K value\")\n",
    "ylabel(\"Error value\")"
   ]
  },
  {
   "cell_type": "code",
   "execution_count": 71,
   "metadata": {},
   "outputs": [
    {
     "data": {
      "text/plain": [
       "9×1 Array{Float64,2}:\n",
       " 14.463550862776625\n",
       " 29.378488357997497\n",
       " 71.12430715378653 \n",
       " 88.4561583903745  \n",
       " 88.63459001556338 \n",
       " 88.91961786062402 \n",
       " 89.18561136324041 \n",
       " 89.63430463559986 \n",
       " 89.63894429568147 "
      ]
     },
     "execution_count": 71,
     "metadata": {},
     "output_type": "execute_result"
    }
   ],
   "source": [
    "diff = zeros(9,1)\n",
    "Xdiff = zeros(9,1)\n",
    "for i in 1:9\n",
    "    diff[i] = atan(1/(goodErrors[i] - goodErrors[i+1])*20000)/pi *180\n",
    "    Xdiff[i] = i\n",
    "end\n",
    "diff\n"
   ]
  },
  {
   "cell_type": "code",
   "execution_count": 72,
   "metadata": {},
   "outputs": [
    {
     "data": {
      "image/png": "[encoded data removed]",
      "text/plain": [
       "Figure(PyObject <Figure size 640x480 with 1 Axes>)"
      ]
     },
     "metadata": {},
     "output_type": "display_data"
    },
    {
     "data": {
      "text/plain": [
       "PyObject Text(24.000000000000007, 0.5, 'Error value')"
      ]
     },
     "execution_count": 72,
     "metadata": {},
     "output_type": "execute_result"
    }
   ],
   "source": [
    "plot(Xdiff,diff)\n",
    "xlabel(\"K value\")\n",
    "ylabel(\"Error value\")"
   ]
  },
  {
   "cell_type": "code",
   "execution_count": 74,
   "metadata": {},
   "outputs": [
    {
     "data": {
      "image/png": "[encoded data removed]",
      "text/plain": [
       "Figure(PyObject <Figure size 640x480 with 1 Axes>)"
      ]
     },
     "metadata": {},
     "output_type": "display_data"
    },
    {
     "data": {
      "text/plain": [
       "8×1 Array{Float64,2}:\n",
       " 14.914937495220872   \n",
       " 41.745818795789035   \n",
       " 17.331851236587966   \n",
       "  0.17843162518887823 \n",
       "  0.2850278450606396  \n",
       "  0.2659935026163964  \n",
       "  0.4486932723594492  \n",
       "  0.004639660081608099"
      ]
     },
     "execution_count": 74,
     "metadata": {},
     "output_type": "execute_result"
    }
   ],
   "source": [
    "diff2 = zeros(8,1)\n",
    "Xdiff2 = zeros(8,1)\n",
    "for i in 1:8\n",
    "    diff2[i] = -( diff[i] - diff[i+1])\n",
    "    Xdiff2[i] = i\n",
    "end\n",
    "plot(Xdiff2,diff2)\n",
    "xlabel(\"K value\")\n",
    "ylabel(\"Error value\")\n",
    "diff2"
   ]
  },
  {
   "cell_type": "code",
   "execution_count": 30,
   "metadata": {},
   "outputs": [
    {
     "data": {
      "text/plain": [
       "41.42529999185569"
      ]
     },
     "execution_count": 30,
     "metadata": {},
     "output_type": "execute_result"
    }
   ],
   "source": [
    "tan(284.29)"
   ]
  },
  {
   "cell_type": "code",
   "execution_count": 56,
   "metadata": {},
   "outputs": [
    {
     "data": {
      "text/plain": [
       "0.7853981633974483"
      ]
     },
     "execution_count": 56,
     "metadata": {},
     "output_type": "execute_result"
    }
   ],
   "source": [
    "atan(1)"
   ]
  },
  {
   "cell_type": "code",
   "execution_count": 68,
   "metadata": {},
   "outputs": [
    {
     "data": {
      "image/png": "[encoded data removed]",
      "text/plain": [
       "Figure(PyObject <Figure size 640x480 with 1 Axes>)"
      ]
     },
     "metadata": {},
     "output_type": "display_data"
    },
    {
     "data": {
      "text/plain": [
       "PyObject Text(24.0, 0.5, 'Error value')"
      ]
     },
     "execution_count": 68,
     "metadata": {},
     "output_type": "execute_result"
    }
   ],
   "source": [
    "using JLD\n",
    "X = load(\"clusterData.jld\",\"X\")\n",
    "\n",
    "# K-means clustering\n",
    "include(\"kMeans.jl\")\n",
    "goodErrors = zeros(5,1);\n",
    "XValue = zeros(5,1);\n",
    "for k in 1:5\n",
    "    goodErrors[k] = Inf\n",
    "    for i in 1:50\n",
    "        model = kMeans(X,k+5,doPlot=false);\n",
    "        y = model.predict(X);\n",
    "        thisError = kMeansError(X,y,model.W);\n",
    "        if (goodErrors[k] - thisError > 0)\n",
    "            goodErrors[k] = thisError\n",
    "            XValue[k] = k\n",
    "        end\n",
    "    end\n",
    "end\n",
    "\n",
    "using PyPlot\n",
    "plot(XValue,goodErrors)\n",
    "xlabel(\"K value\")\n",
    "ylabel(\"Error value\")"
   ]
  },
  {
   "cell_type": "code",
   "execution_count": null,
   "metadata": {},
   "outputs": [],
   "source": []
  }
 ],
 "metadata": {
  "kernelspec": {
   "display_name": "Julia 1.2.0",
   "language": "julia",
   "name": "julia-1.2"
  },
  "language_info": {
   "file_extension": ".jl",
   "mimetype": "application/julia",
   "name": "julia",
   "version": "1.2.0"
  }
 },
 "nbformat": 4,
 "nbformat_minor": 4
}
